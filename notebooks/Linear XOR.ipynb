{
 "cells": [
  {
   "cell_type": "code",
   "execution_count": 2,
   "metadata": {},
   "outputs": [],
   "source": [
    "import numpy as np"
   ]
  },
  {
   "cell_type": "code",
   "execution_count": 3,
   "metadata": {},
   "outputs": [],
   "source": [
    "# bits are our inputs\n",
    "X = np.array([[0, 0], [0, 1], [1, 0], [1, 1]])\n",
    "\n",
    "# parities are our labels\n",
    "Y = np.array([0, 1, 1, 0])"
   ]
  },
  {
   "cell_type": "code",
   "execution_count": 4,
   "metadata": {},
   "outputs": [
    {
     "name": "stdout",
     "output_type": "stream",
     "text": [
      "bits [0 0] --> parity 0\n",
      "bits [0 1] --> parity 1\n",
      "bits [1 0] --> parity 1\n",
      "bits [1 1] --> parity 0\n"
     ]
    }
   ],
   "source": [
    "for i, bits in enumerate(X):\n",
    "    print(f'bits {bits} --> parity {Y[i]}')"
   ]
  },
  {
   "cell_type": "code",
   "execution_count": 5,
   "metadata": {},
   "outputs": [],
   "source": [
    "def identity(x):\n",
    "    return x\n",
    "\n",
    "def sigmoid(x):\n",
    "    return 1 / (1 + np.exp(-x))"
   ]
  },
  {
   "cell_type": "code",
   "execution_count": 8,
   "metadata": {},
   "outputs": [],
   "source": [
    "def build_layers(input_dim, hidden_units, activations):\n",
    "    layers = []    \n",
    "        \n",
    "    for i, num_units in enumerate(hidden_units):\n",
    "        layers.append({\n",
    "            'weights':  np.random.uniform(size=(input_dim, num_units)),\n",
    "            'bias': np.zeros((1, num_units)),\n",
    "            'activation': activations[i],\n",
    "        })\n",
    "        \n",
    "        # the next layers input_dim will be this layers num_units\n",
    "        # [rows, this_num_units] X [this_num_units, next_num_units] -> [rows, next_num_units]\n",
    "        input_dim = num_units\n",
    "    \n",
    "    return layers\n",
    "\n",
    "def forward(x, layers):\n",
    "    for layer in layers:\n",
    "        x = x.dot(layer['weights']) + layer['bias']\n",
    "        x = layer['activation'](x)\n",
    "    return x"
   ]
  },
  {
   "cell_type": "code",
   "execution_count": 9,
   "metadata": {},
   "outputs": [
    {
     "data": {
      "text/plain": [
       "array([[0.51424762],\n",
       "       [0.51508232],\n",
       "       [0.51745592],\n",
       "       [0.51824855]])"
      ]
     },
     "execution_count": 9,
     "metadata": {},
     "output_type": "execute_result"
    }
   ],
   "source": [
    "layers = build_layers(X.shape[-1], hidden_units=[2, 1], activations=[sigmoid, sigmoid])\n",
    "yhat = forward(X, layers)\n",
    "\n",
    "yhat"
   ]
  },
  {
   "cell_type": "code",
   "execution_count": null,
   "metadata": {},
   "outputs": [],
   "source": []
  }
 ],
 "metadata": {
  "kernelspec": {
   "display_name": "Python 3",
   "language": "python",
   "name": "python3"
  },
  "language_info": {
   "codemirror_mode": {
    "name": "ipython",
    "version": 3
   },
   "file_extension": ".py",
   "mimetype": "text/x-python",
   "name": "python",
   "nbconvert_exporter": "python",
   "pygments_lexer": "ipython3",
   "version": "3.6.3"
  }
 },
 "nbformat": 4,
 "nbformat_minor": 2
}
