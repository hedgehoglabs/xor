{
 "cells": [
  {
   "cell_type": "code",
   "execution_count": 1,
   "metadata": {},
   "outputs": [
    {
     "name": "stdout",
     "output_type": "stream",
     "text": [
      "bits [0 0] --> parity [0]\n",
      "bits [0 1] --> parity [1]\n",
      "bits [1 0] --> parity [1]\n",
      "bits [1 1] --> parity [0]\n"
     ]
    }
   ],
   "source": [
    "import numpy as np\n",
    "\n",
    "np.random.seed(0)\n",
    "\n",
    "# bits are our inputs\n",
    "X = np.array([[0, 0], [0, 1], [1, 0], [1, 1]])\n",
    "\n",
    "# parities are our labels\n",
    "Y = np.array([[0], [1], [1], [0]])\n",
    "\n",
    "for i, bits in enumerate(X):\n",
    "    print(f'bits {bits} --> parity {Y[i]}')"
   ]
  },
  {
   "cell_type": "code",
   "execution_count": 2,
   "metadata": {},
   "outputs": [
    {
     "name": "stdout",
     "output_type": "stream",
     "text": [
      "delta sigmoid [[0.25      ]\n",
      " [0.19661193]\n",
      " [0.19661193]\n",
      " [0.25      ]]\n",
      "delta sigmoid analytical [[0.25000002]\n",
      " [0.19661195]\n",
      " [0.19661195]\n",
      " [0.25000002]]\n"
     ]
    }
   ],
   "source": [
    "def sigmoid(x):\n",
    "    return 1 / (1 + np.exp(-x))\n",
    "\n",
    "def delta_sigmoid(x):\n",
    "    # to derive use the +1 trick from http://cs231n.github.io/optimization-2/\n",
    "    return sigmoid(x) * (1 - sigmoid(x))\n",
    "\n",
    "def analytical_gradient(f, x):\n",
    "    h = 1e-9\n",
    "    return (f(x + h) - f(x)) / h\n",
    "\n",
    "print('delta sigmoid', delta_sigmoid(Y))\n",
    "print('delta sigmoid analytical', analytical_gradient(sigmoid, Y))"
   ]
  },
  {
   "cell_type": "code",
   "execution_count": 3,
   "metadata": {},
   "outputs": [
    {
     "name": "stdout",
     "output_type": "stream",
     "text": [
      "loss 0.14451072667400197\n",
      "loss 0.007930633168167129\n",
      "loss 0.0031754754752917323\n",
      "loss 0.0021824385490060365\n"
     ]
    }
   ],
   "source": [
    "# X [4,2]\n",
    "input_dim = X.shape[-1]\n",
    "# Y [4,1]\n",
    "output_dim = Y.shape[-1]\n",
    "hidden_units = 2\n",
    "lr = 0.1\n",
    "\n",
    "# [2,2]\n",
    "Whidden = np.random.uniform(size=(input_dim, hidden_units)) # hidden layer\n",
    "\n",
    "# [2,1]\n",
    "Woutput = np.random.uniform(size=(hidden_units, output_dim)) # output layer\n",
    "\n",
    "for step in range(10000):\n",
    "    # forward pass\n",
    "    # loss = loss(output(activation(hidden(X))))\n",
    "\n",
    "    # hidden(X) [4,2]\n",
    "    hidden = X.dot(Whidden)\n",
    "    \n",
    "    # activation(hidden) [4,2]\n",
    "    activation = sigmoid(hidden)\n",
    "\n",
    "    # output(activation) [4,2]x[2,1] -> [4,1]\n",
    "    output = activation.dot(Woutput)\n",
    "\n",
    "    # loss(output) [4,1]\n",
    "    loss = 0.5 * (output - Y)**2\n",
    "    if step % 2500 == 0:\n",
    "        print('loss', np.mean(loss))\n",
    "    \n",
    "    # backward pass\n",
    "    # loss'(output) [4,1]\n",
    "    dloss_output = output - Y\n",
    "    \n",
    "    # loss'(activation) = loss'(output) * output'(activation)\n",
    "    # [4,1]x[1,2] -> [4,2]\n",
    "    dloss_activation = dloss_output.dot(Woutput.T)\n",
    "\n",
    "    # loss'(hidden) = loss'(activation) * activation'(hidden)\n",
    "    # [4,2]*[4,2] -> [4,2]\n",
    "    dloss_hidden = dloss_activation * delta_sigmoid(hidden)\n",
    "\n",
    "    # Take a small step in the opposite direction of the gradient \n",
    "    \n",
    "    # loss'(Woutput) = loss'(output) * output'(Woutput)\n",
    "    # [2,4]x[4,1] -> [2,1]\n",
    "    dloss_woutput = activation.T.dot(dloss_output)\n",
    "    Woutput -= dloss_woutput * lr\n",
    "\n",
    "    # loss'(Whidden) = loss'(hidden) * hidden'(Whidden)\n",
    "    # [2,4]x[4,2] -> [2,2]\n",
    "    dloss_whidden = X.T.dot(dloss_hidden)    \n",
    "    Whidden -= dloss_whidden * lr"
   ]
  },
  {
   "cell_type": "code",
   "execution_count": 4,
   "metadata": {},
   "outputs": [
    {
     "name": "stdout",
     "output_type": "stream",
     "text": [
      "prediction [-0.08500212] -> label [0]\n",
      "prediction [0.98169372] -> label [1]\n",
      "prediction [0.98169457] -> label [1]\n",
      "prediction [0.07744216] -> label [0]\n"
     ]
    }
   ],
   "source": [
    "for i, prediction in enumerate(output):\n",
    "    print(f'prediction {prediction} -> label {Y[i]}')"
   ]
  },
  {
   "cell_type": "code",
   "execution_count": null,
   "metadata": {},
   "outputs": [],
   "source": []
  }
 ],
 "metadata": {
  "kernelspec": {
   "display_name": "Python 3",
   "language": "python",
   "name": "python3"
  },
  "language_info": {
   "codemirror_mode": {
    "name": "ipython",
    "version": 3
   },
   "file_extension": ".py",
   "mimetype": "text/x-python",
   "name": "python",
   "nbconvert_exporter": "python",
   "pygments_lexer": "ipython3",
   "version": "3.6.3"
  }
 },
 "nbformat": 4,
 "nbformat_minor": 2
}
